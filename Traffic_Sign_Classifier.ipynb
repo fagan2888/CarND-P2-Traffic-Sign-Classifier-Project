{
 "cells": [
  {
   "cell_type": "markdown",
   "metadata": {
    "colab_type": "text",
    "id": "M594IWUz9EOq"
   },
   "source": [
    "# Self-Driving Car Engineer Nanodegree\n",
    "\n",
    "## Deep Learning\n",
    "\n",
    "## Project: Build a Traffic Sign Recognition Classifier\n",
    "\n",
    "In this notebook, a template is provided for you to implement your functionality in stages, which is required to successfully complete this project. If additional code is required that cannot be included in the notebook, be sure that the Python code is successfully imported and included in your submission if necessary. \n",
    "\n",
    "> **Note**: Once you have completed all of the code implementations, you need to finalize your work by exporting the iPython Notebook as an HTML document. Before exporting the notebook to html, all of the code cells need to have been run so that reviewers can see the final implementation and output. You can then export the notebook by using the menu above and navigating to  \\n\",\n",
    "    \"**File -> Download as -> HTML (.html)**. Include the finished document along with this notebook as your submission. \n",
    "\n",
    "In addition to implementing code, there is a writeup to complete. The writeup should be completed in a separate file, which can be either a markdown file or a pdf document. There is a [write up template](https://github.com/udacity/CarND-Traffic-Sign-Classifier-Project/blob/master/writeup_template.md) that can be used to guide the writing process. Completing the code template and writeup template will cover all of the [rubric points](https://review.udacity.com/#!/rubrics/481/view) for this project.\n",
    "\n",
    "The [rubric](https://review.udacity.com/#!/rubrics/481/view) contains \"Stand Out Suggestions\" for enhancing the project beyond the minimum requirements. The stand out suggestions are optional. If you decide to pursue the \"stand out suggestions\", you can include the code in this Ipython notebook and also discuss the results in the writeup file.\n",
    "\n",
    "\n",
    ">**Note:** Code and Markdown cells can be executed using the **Shift + Enter** keyboard shortcut. In addition, Markdown cells can be edited by typically double-clicking the cell to enter edit mode."
   ]
  },
  {
   "cell_type": "markdown",
   "metadata": {
    "colab_type": "text",
    "id": "ozzODXHd9EOy"
   },
   "source": [
    "---\n",
    "## Step 0: Load The Data"
   ]
  },
  {
   "cell_type": "code",
   "execution_count": 1,
   "metadata": {
    "colab": {
     "autoexec": {
      "startup": false,
      "wait_interval": 0
     },
     "base_uri": "https://localhost:8080/",
     "height": 473,
     "output_extras": [
      {
       "item_id": 2
      },
      {
       "item_id": 3
      },
      {
       "item_id": 4
      }
     ],
     "resources": {
      "http://localhost:8080/nbextensions/google.colab/files.js": {
       "data": "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",
       "headers": [
        [
         "content-type",
         "application/javascript"
        ]
       ],
       "ok": true,
       "status": 200,
       "status_text": ""
      }
     }
    },
    "colab_type": "code",
    "executionInfo": {
     "elapsed": 34115,
     "status": "ok",
     "timestamp": 1519476203487,
     "user": {
      "displayName": "Trijeet Modak",
      "photoUrl": "//lh5.googleusercontent.com/-qIbE8Z4Hng0/AAAAAAAAAAI/AAAAAAAAAf8/jYgwkubgbYk/s50-c-k-no/photo.jpg",
      "userId": "102805649547285129830"
     },
     "user_tz": -330
    },
    "id": "EZtQqVTa9EO3",
    "outputId": "6515b92e-3919-4aa2-b646-676713a9825d"
   },
   "outputs": [],
   "source": [
    "# # PREREQUISITE FOR RUNNUNG ON GOOGLE COLAB\n",
    "\n",
    "# from urllib.request import urlretrieve\n",
    "# from zipfile import ZipFile\n",
    "# import os\n",
    "\n",
    "# !apt-get -qq install -y libsm6 libxext6 && pip install -q -U opencv-python\n",
    "# !pip install prettytable\n",
    "# !rm -rf ./data\n",
    "\n",
    "# try:\n",
    "#     os.mkdir(\"data\")\n",
    "#     os.mkdir(\"./data/eval/\")\n",
    "#     os.mkdir(\"./data/model/\")\n",
    "# except:\n",
    "#     pass\n",
    "\n",
    "# if (\"traffic-signs-data.zip\" not in os.listdir(\"./data/\")):\n",
    "#     urlretrieve(\n",
    "#         \"https://d17h27t6h515a5.cloudfront.net/topher/2017/February/5898cd6f_traffic-signs-data/traffic-signs-data.zip\",\n",
    "#         \"./data/traffic-signs-data.zip\")\n",
    "\n",
    "#     print(\"Upload German traffic sign images of size 32x32 downloaded from the web\") \n",
    "#     from google.colab import files\n",
    "#     uploaded = files.upload()\n",
    "#     for fn in uploaded.keys():\n",
    "#       print('User uploaded file \"{name}\" with length {length} bytes'.format(\n",
    "#           name=fn, length=len(uploaded[fn])))\n",
    "#     for x in uploaded.keys():  \n",
    "#       with open(\"./data/eval/\"+x, 'wb') as f:\n",
    "#         f.write(uploaded[x])\n",
    "\n",
    "#     urlretrieve(\n",
    "#         \"https://raw.githubusercontent.com/udacity/CarND-Traffic-Sign-Classifier-Project/master/signnames.csv\",\n",
    "#         \"./signnames.csv\")\n",
    "\n",
    "# if (\"train.p\" not in os.listdir(\"./data/\")):\n",
    "#     with ZipFile(\"./data/traffic-signs-data.zip\") as zipf:\n",
    "#         zipf.extractall(\"./data\")\n"
   ]
  },
  {
   "cell_type": "code",
   "execution_count": 2,
   "metadata": {
    "colab": {
     "autoexec": {
      "startup": false,
      "wait_interval": 0
     }
    },
    "colab_type": "code",
    "id": "7cAj3txn9EPL"
   },
   "outputs": [],
   "source": [
    "import pickle\n",
    "import math\n",
    "from itertools import groupby\n",
    "import matplotlib.pyplot as plt\n",
    "import numpy as np\n",
    "\n",
    "\n",
    "class dataset:\n",
    "    X = None\n",
    "    y = None\n",
    "\n",
    "    n = None\n",
    "    image_shape = None\n",
    "    n_classes = None\n",
    "\n",
    "    eg_per_class = None\n",
    "    eg_max = None\n",
    "    eg_min = None\n",
    "\n",
    "    def __init__(self, X, y):\n",
    "        self.X, self.y = X, y\n",
    "        self.n = len(self.X)\n",
    "        self.image_shape = self.X[0].shape\n",
    "        self.n_classes = len(set(self.y))\n",
    "\n",
    "        self.eg_per_class = {key: len(list(group)) for key, group in groupby(np.sort(self.y))}\n",
    "        self.eg_max = max(self.eg_per_class.values())\n",
    "        self.eg_min = min(self.eg_per_class.values())\n",
    "\n",
    "    @classmethod\n",
    "    def from_pickle(cls, data_file):\n",
    "        with open(data_file, mode='rb') as f:\n",
    "            train = pickle.load(f)\n",
    "            return dataset(train['features'], train['labels'])\n",
    "\n",
    "    def describe(self):\n",
    "        print(\"Number of examples =\", self.n)\n",
    "        print(\"Image data shape =\", self.image_shape)\n",
    "        print(\"Number of unique classes =\", self.n_classes)\n",
    "        print(\"Examples per class =\", self.eg_per_class)\n",
    "        print(\"Max Examples in class =\", self.eg_max)\n",
    "        print(\"Min Examples in class =\", self.eg_min)\n",
    "\n",
    "    def __count_class_examples(self):\n",
    "        return self.eg_per_class\n",
    "\n",
    "    def chart_eg_freq_histogram(self):\n",
    "        plt.bar(self.eg_per_class.keys(), self.eg_per_class.values())\n",
    "        plt.show()\n",
    "\n",
    "    def chart_class_eg(self):\n",
    "        imgs = self.X[list({list(self.y).index(key) for key in self.eg_per_class.keys()})]\n",
    "        size = len(imgs[0])\n",
    "        side = int(math.ceil(math.sqrt(len(imgs))))\n",
    "        #         print(imgs[0].shape)\n",
    "        if (len(imgs[0].shape) == 3):\n",
    "            unique_imgs_grid = np.zeros((side * size, side * size, 3), dtype=np.uint8)\n",
    "            for i in range(0, side):\n",
    "                for j in range(0, side):\n",
    "                    try:\n",
    "                        unique_imgs_grid[i * size:i * size + size, j * size:j * size + size, :] = imgs[i * side + j]\n",
    "                    except:\n",
    "                        pass\n",
    "            plt.imshow(unique_imgs_grid, )\n",
    "            plt.show()\n",
    "\n",
    "        if (len(imgs[0].shape) == 2):\n",
    "            unique_imgs_grid = np.zeros((side * size, side * size))\n",
    "            for i in range(0, side):\n",
    "                for j in range(0, side):\n",
    "                    try:\n",
    "                        unique_imgs_grid[i * size:i * size + size, j * size:j * size + size] = imgs[i * side + j]\n",
    "                    except:\n",
    "                        pass\n",
    "\n",
    "            plt.imshow(unique_imgs_grid, cmap='gray')\n",
    "            plt.show()\n"
   ]
  },
  {
   "cell_type": "markdown",
   "metadata": {
    "colab_type": "text",
    "id": "zYYv87669EPX"
   },
   "source": [
    "---\n",
    "\n",
    "## Step 1: Dataset Summary & Exploration\n",
    "\n",
    "The pickled data is a dictionary with 4 key/value pairs:\n",
    "\n",
    "- `'features'` is a 4D array containing raw pixel data of the traffic sign images, (num examples, width, height, channels).\n",
    "- `'labels'` is a 1D array containing the label/class id of the traffic sign. The file `signnames.csv` contains id -> name mappings for each id.\n",
    "- `'sizes'` is a list containing tuples, (width, height) representing the original width and height the image.\n",
    "- `'coords'` is a list containing tuples, (x1, y1, x2, y2) representing coordinates of a bounding box around the sign in the image. **THESE COORDINATES ASSUME THE ORIGINAL IMAGE. THE PICKLED DATA CONTAINS RESIZED VERSIONS (32 by 32) OF THESE IMAGES**\n",
    "\n",
    "Complete the basic data summary below. Use python, numpy and/or pandas methods to calculate the data summary rather than hard coding the results. For example, the [pandas shape method](http://pandas.pydata.org/pandas-docs/stable/generated/pandas.DataFrame.shape.html) might be useful for calculating some of the summary results. "
   ]
  },
  {
   "cell_type": "markdown",
   "metadata": {
    "colab_type": "text",
    "id": "G5mAmlMq9EPa"
   },
   "source": [
    "### Provide a Basic Summary of the Data Set Using Python, Numpy and/or Pandas"
   ]
  },
  {
   "cell_type": "code",
   "execution_count": 3,
   "metadata": {
    "colab": {
     "autoexec": {
      "startup": false,
      "wait_interval": 0
     },
     "base_uri": "https://localhost:8080/",
     "height": 445,
     "output_extras": [
      {
       "item_id": 1
      }
     ]
    },
    "colab_type": "code",
    "executionInfo": {
     "elapsed": 748,
     "status": "ok",
     "timestamp": 1519476205418,
     "user": {
      "displayName": "Trijeet Modak",
      "photoUrl": "//lh5.googleusercontent.com/-qIbE8Z4Hng0/AAAAAAAAAAI/AAAAAAAAAf8/jYgwkubgbYk/s50-c-k-no/photo.jpg",
      "userId": "102805649547285129830"
     },
     "user_tz": -330
    },
    "id": "7C3kRXCp9EPe",
    "outputId": "16a721bf-4eb8-46a0-f6be-e60a0f1843a8"
   },
   "outputs": [
    {
     "name": "stdout",
     "output_type": "stream",
     "text": [
      "Training Dataset Details\n",
      "Number of examples = 34799\n",
      "Image data shape = (32, 32, 3)\n",
      "Number of unique classes = 43\n",
      "Examples per class = {0: 180, 1: 1980, 2: 2010, 3: 1260, 4: 1770, 5: 1650, 6: 360, 7: 1290, 8: 1260, 9: 1320, 10: 1800, 11: 1170, 12: 1890, 13: 1920, 14: 690, 15: 540, 16: 360, 17: 990, 18: 1080, 19: 180, 20: 300, 21: 270, 22: 330, 23: 450, 24: 240, 25: 1350, 26: 540, 27: 210, 28: 480, 29: 240, 30: 390, 31: 690, 32: 210, 33: 599, 34: 360, 35: 1080, 36: 330, 37: 180, 38: 1860, 39: 270, 40: 300, 41: 210, 42: 210}\n",
      "Max Examples in class = 2010\n",
      "Min Examples in class = 180\n",
      "\n",
      "Validation Dataset Details\n",
      "Number of examples = 4410\n",
      "Image data shape = (32, 32, 3)\n",
      "Number of unique classes = 43\n",
      "Examples per class = {0: 30, 1: 240, 2: 240, 3: 150, 4: 210, 5: 210, 6: 60, 7: 150, 8: 150, 9: 150, 10: 210, 11: 150, 12: 210, 13: 240, 14: 90, 15: 90, 16: 60, 17: 120, 18: 120, 19: 30, 20: 60, 21: 60, 22: 60, 23: 60, 24: 30, 25: 150, 26: 60, 27: 30, 28: 60, 29: 30, 30: 60, 31: 90, 32: 30, 33: 90, 34: 60, 35: 120, 36: 60, 37: 30, 38: 210, 39: 30, 40: 60, 41: 30, 42: 30}\n",
      "Max Examples in class = 240\n",
      "Min Examples in class = 30\n",
      "\n",
      "Testing Dataset Details\n",
      "Number of examples = 12630\n",
      "Image data shape = (32, 32, 3)\n",
      "Number of unique classes = 43\n",
      "Examples per class = {0: 60, 1: 720, 2: 750, 3: 450, 4: 660, 5: 630, 6: 150, 7: 450, 8: 450, 9: 480, 10: 660, 11: 420, 12: 690, 13: 720, 14: 270, 15: 210, 16: 150, 17: 360, 18: 390, 19: 60, 20: 90, 21: 90, 22: 120, 23: 150, 24: 90, 25: 480, 26: 180, 27: 60, 28: 150, 29: 90, 30: 150, 31: 270, 32: 60, 33: 210, 34: 120, 35: 390, 36: 120, 37: 60, 38: 690, 39: 90, 40: 90, 41: 60, 42: 90}\n",
      "Max Examples in class = 750\n",
      "Min Examples in class = 60\n"
     ]
    }
   ],
   "source": [
    "### Replace each question mark with the appropriate value. \n",
    "### Use python, pandas or numpy methods rather than hard coding the results\n",
    "\n",
    "# TODO: Number of training examples\n",
    "\n",
    "ds_train = dataset.from_pickle(\"data/train.p\")\n",
    "\n",
    "ds_valid = dataset.from_pickle(\"data/valid.p\")\n",
    "\n",
    "ds_test = dataset.from_pickle(\"data/test.p\")\n",
    "\n",
    "print(\"Training Dataset Details\")\n",
    "ds_train.describe()\n",
    "print()\n",
    "\n",
    "print(\"Validation Dataset Details\")\n",
    "ds_valid.describe()\n",
    "print()\n",
    "\n",
    "print(\"Testing Dataset Details\")\n",
    "ds_test.describe()"
   ]
  },
  {
   "cell_type": "markdown",
   "metadata": {
    "colab_type": "text",
    "id": "RTec3J5H9EPr"
   },
   "source": [
    "### Include an exploratory visualization of the dataset"
   ]
  },
  {
   "cell_type": "markdown",
   "metadata": {
    "colab_type": "text",
    "id": "nYBn2bUe9EPt"
   },
   "source": [
    "Visualize the German Traffic Signs Dataset using the pickled file(s). This is open ended, suggestions include: plotting traffic sign images, plotting the count of each sign, etc. \n",
    "\n",
    "The [Matplotlib](http://matplotlib.org/) [examples](http://matplotlib.org/examples/index.html) and [gallery](http://matplotlib.org/gallery.html) pages are a great resource for doing visualizations in Python.\n",
    "\n",
    "**NOTE:** It's recommended you start with something simple first. If you wish to do more, come back to it after you've completed the rest of the sections. It can be interesting to look at the distribution of classes in the training, validation and test set. Is the distribution the same? Are there more examples of some classes than others?"
   ]
  },
  {
   "cell_type": "code",
   "execution_count": 4,
   "metadata": {
    "colab": {
     "autoexec": {
      "startup": false,
      "wait_interval": 0
     },
     "base_uri": "https://localhost:8080/",
     "height": 1087,
     "output_extras": [
      {
       "item_id": 1
      },
      {
       "item_id": 2
      },
      {
       "item_id": 3
      },
      {
       "item_id": 4
      },
      {
       "item_id": 5
      },
      {
       "item_id": 6
      },
      {
       "item_id": 7
      },
      {
       "item_id": 8
      }
     ]
    },
    "colab_type": "code",
    "executionInfo": {
     "elapsed": 1977,
     "status": "ok",
     "timestamp": 1519476207569,
     "user": {
      "displayName": "Trijeet Modak",
      "photoUrl": "//lh5.googleusercontent.com/-qIbE8Z4Hng0/AAAAAAAAAAI/AAAAAAAAAf8/jYgwkubgbYk/s50-c-k-no/photo.jpg",
      "userId": "102805649547285129830"
     },
     "user_tz": -330
    },
    "id": "lz9dlWkV9EPw",
    "outputId": "83cd2d18-d095-4161-a95d-2dd1c56444b6"
   },
   "outputs": [
    {
     "name": "stdout",
     "output_type": "stream",
     "text": [
      "Training Dataset Class Distribution\n"
     ]
    },
    {
     "data": {
      "image/png": "[encoded data removed]",
      "text/plain": [
       "<matplotlib.figure.Figure at 0x7ff6069ea400>"
      ]
     },
     "metadata": {
      "tags": []
     },
     "output_type": "display_data"
    },
    {
     "name": "stdout",
     "output_type": "stream",
     "text": [
      "Validation Dataset Class Distribution\n"
     ]
    },
    {
     "data": {
      "image/png": "[encoded data removed]",
      "text/plain": [
       "<matplotlib.figure.Figure at 0x7ff5f3d5fac8>"
      ]
     },
     "metadata": {
      "tags": []
     },
     "output_type": "display_data"
    },
    {
     "name": "stdout",
     "output_type": "stream",
     "text": [
      "Testing Dataset Class Distribution\n"
     ]
    },
    {
     "data": {
      "image/png": "[encoded data removed]",
      "text/plain": [
       "<matplotlib.figure.Figure at 0x7ff5f3d0f470>"
      ]
     },
     "metadata": {
      "tags": []
     },
     "output_type": "display_data"
    },
    {
     "name": "stdout",
     "output_type": "stream",
     "text": [
      "Unique Classes\n"
     ]
    },
    {
     "data": {
      "image/png": "[encoded data removed]",
      "text/plain": [
       "<matplotlib.figure.Figure at 0x7ff5f1b4f438>"
      ]
     },
     "metadata": {
      "tags": []
     },
     "output_type": "display_data"
    }
   ],
   "source": [
    "### Data exploration visualization code goes here.\n",
    "### Feel free to use as many code cells as needed.\n",
    "import matplotlib.pyplot as plt\n",
    "\n",
    "# Visualizations will be shown in the notebook.\n",
    "%matplotlib inline\n",
    "\n",
    "print(\"Training Dataset Class Distribution\")\n",
    "ds_train.chart_eg_freq_histogram()\n",
    "\n",
    "print(\"Validation Dataset Class Distribution\")\n",
    "ds_valid.chart_eg_freq_histogram()\n",
    "\n",
    "print(\"Testing Dataset Class Distribution\")\n",
    "ds_test.chart_eg_freq_histogram()\n",
    "\n",
    "print(\"Unique Classes\")\n",
    "ds_train.chart_class_eg()"
   ]
  },
  {
   "cell_type": "markdown",
   "metadata": {
    "colab_type": "text",
    "id": "gVQZ0Tdk9EP8"
   },
   "source": [
    "----\n",
    "\n",
    "## Step 2: Design and Test a Model Architecture\n",
    "\n",
    "Design and implement a deep learning model that learns to recognize traffic signs. Train and test your model on the [German Traffic Sign Dataset](http://benchmark.ini.rub.de/?section=gtsrb&subsection=dataset).\n",
    "\n",
    "The LeNet-5 implementation shown in the [classroom](https://classroom.udacity.com/nanodegrees/nd013/parts/fbf77062-5703-404e-b60c-95b78b2f3f9e/modules/6df7ae49-c61c-4bb2-a23e-6527e69209ec/lessons/601ae704-1035-4287-8b11-e2c2716217ad/concepts/d4aca031-508f-4e0b-b493-e7b706120f81) at the end of the CNN lesson is a solid starting point. You'll have to change the number of classes and possibly the preprocessing, but aside from that it's plug and play! \n",
    "\n",
    "With the LeNet-5 solution from the lecture, you should expect a validation set accuracy of about 0.89. To meet specifications, the validation set accuracy will need to be at least 0.93. It is possible to get an even higher accuracy, but 0.93 is the minimum for a successful project submission. \n",
    "\n",
    "There are various aspects to consider when thinking about this problem:\n",
    "\n",
    "- Neural network architecture (is the network over or underfitting?)\n",
    "- Play around preprocessing techniques (normalization, rgb to grayscale, etc)\n",
    "- Number of examples per label (some have more than others).\n",
    "- Generate fake data.\n",
    "\n",
    "Here is an example of a [published baseline model on this problem](http://yann.lecun.com/exdb/publis/pdf/sermanet-ijcnn-11.pdf). It's not required to be familiar with the approach used in the paper but, it's good practice to try to read papers like these."
   ]
  },
  {
   "cell_type": "markdown",
   "metadata": {
    "colab_type": "text",
    "id": "Z54cglFo9EP-"
   },
   "source": [
    "### Pre-process the Data Set (normalization, grayscale, etc.)"
   ]
  },
  {
   "cell_type": "markdown",
   "metadata": {
    "colab_type": "text",
    "id": "KigUJ7HR9EQC"
   },
   "source": [
    "Minimally, the image data should be normalized so that the data has mean zero and equal variance. For image data, `(pixel - 128)/ 128` is a quick way to approximately normalize the data and can be used in this project. \n",
    "\n",
    "Other pre-processing steps are optional. You can try different techniques to see if it improves performance. \n",
    "\n",
    "Use the code cell (or multiple code cells, if necessary) to implement the first step of your project."
   ]
  },
  {
   "cell_type": "code",
   "execution_count": 0,
   "metadata": {
    "colab": {
     "autoexec": {
      "startup": false,
      "wait_interval": 0
     }
    },
    "colab_type": "code",
    "id": "zwRbHnrN9EQF"
   },
   "outputs": [],
   "source": [
    "### Preprocess the data here. It is required to normalize the data. Other preprocessing steps could include \n",
    "### converting to grayscale, etc.\n",
    "### Feel free to use as many code cells as needed.\n",
    "\n",
    "import cv2\n",
    "import random\n",
    "import numpy as np\n",
    "from sklearn.utils import shuffle\n",
    "import matplotlib.pyplot as plt\n",
    "\n",
    "\n",
    "class preprocess:\n",
    "    @staticmethod\n",
    "    def shuffle(ds):\n",
    "        X, y = shuffle(ds.X, ds.y)\n",
    "        return dataset(X,y)\n",
    "\n",
    "    @staticmethod\n",
    "    def augment(ds, resize=None):\n",
    "        ds = preprocess.shuffle(ds)\n",
    "        X = list(ds.X)\n",
    "        y = list(ds.y)\n",
    "\n",
    "        if resize == None:\n",
    "            resize = ds.eg_max\n",
    "        elif resize == 0:\n",
    "            resize = ds.eg_min\n",
    "\n",
    "        size = len(y)\n",
    "        eg_per_class = dict(ds.eg_per_class)\n",
    "        while True:\n",
    "            flag = True\n",
    "            i = 0\n",
    "            while i < size:\n",
    "                if eg_per_class[y[i]] < resize:\n",
    "                    flag = False\n",
    "                    if (random.random() > 0.75):\n",
    "                        X.append(preprocess.rotate(preprocess.translate(X[i])))\n",
    "                    elif (random.random() > 0.5):\n",
    "                        X.append(preprocess.translate(preprocess.rotate(X[i])))\n",
    "                    elif (random.random() > 0.25):\n",
    "                        X.append(preprocess.rotate(X[i]))\n",
    "                    else:\n",
    "                        X.append(preprocess.translate(X[i]))\n",
    "                    y.append(y[i])\n",
    "                    eg_per_class[y[i]] = eg_per_class[y[i]] + 1\n",
    "\n",
    "                elif eg_per_class[y[i]] > resize:\n",
    "                    flag = False\n",
    "                    eg_per_class[y[i]] = eg_per_class[y[i]] - 1\n",
    "                    del (X[i])\n",
    "                    del (y[i])\n",
    "                    size -= 1\n",
    "                i += 1\n",
    "            if flag:\n",
    "                break\n",
    "\n",
    "        X = np.array(X)\n",
    "        y = np.array(y)\n",
    "        return dataset(X, y)\n",
    "\n",
    "    @staticmethod\n",
    "    def gray_scale(ds):\n",
    "        X = np.array([np.reshape(cv2.cvtColor(img, cv2.COLOR_RGB2GRAY), (32, 32, 1)) for img in ds.X])\n",
    "        return dataset(X, ds.y)\n",
    "\n",
    "    @staticmethod\n",
    "    def normalize(ds):\n",
    "        X = ds.X\n",
    "        X = X / 128\n",
    "        X = X - 1\n",
    "        return dataset(X, ds.y)\n",
    "\n",
    "    @classmethod\n",
    "    def translate(cls, img):\n",
    "        rows, cols, depth = img.shape\n",
    "        h = cols * (random.uniform(-0.075, 0.075))\n",
    "        v = rows * (random.uniform(-0.075, 0.075))\n",
    "\n",
    "        M = np.float32([[1, 0, v], [0, 1, h]])\n",
    "        dst = cv2.warpAffine(img, M, (rows, cols))\n",
    "        return dst\n",
    "\n",
    "    @classmethod\n",
    "    def rotate(cls, img):\n",
    "        rows, cols, depth = img.shape\n",
    "        a = random.uniform(-7.5, 7.5)\n",
    "        M = cv2.getRotationMatrix2D((cols / 2, rows / 2), a, 1)\n",
    "        dst = cv2.warpAffine(img, M, (cols, rows))\n",
    "        return dst\n"
   ]
  },
  {
   "cell_type": "code",
   "execution_count": 0,
   "metadata": {
    "colab": {
     "autoexec": {
      "startup": false,
      "wait_interval": 0
     }
    },
    "colab_type": "code",
    "id": "p5vh0GLP9EQQ"
   },
   "outputs": [],
   "source": [
    "ds_train = preprocess.augment(ds_train, 1500)\n",
    "ds_train = preprocess.augment(ds_train, 2000)\n",
    "# ds_train = preprocess.gray_scale(ds_train)\n",
    "ds_train = preprocess.normalize(ds_train)\n",
    "X_train = ds_train.X\n",
    "y_train = ds_train.y\n",
    "\n",
    "# ds_valid = preprocess.gray_scale(ds_valid)\n",
    "ds_valid = preprocess.normalize(ds_valid)\n",
    "X_validation = ds_valid.X\n",
    "y_validation = ds_valid.y\n",
    "\n",
    "# ds_test = preprocess.gray_scale(ds_test)\n",
    "ds_test = preprocess.normalize(ds_test)\n",
    "X_test = ds_test.X\n",
    "y_test = ds_test.y\n"
   ]
  },
  {
   "cell_type": "markdown",
   "metadata": {
    "colab_type": "text",
    "id": "R6sT7cNR9EQf"
   },
   "source": [
    "### Model Architecture"
   ]
  },
  {
   "cell_type": "code",
   "execution_count": 7,
   "metadata": {
    "colab": {
     "autoexec": {
      "startup": false,
      "wait_interval": 0
     },
     "base_uri": "https://localhost:8080/",
     "height": 179,
     "output_extras": [
      {
       "item_id": 1
      }
     ]
    },
    "colab_type": "code",
    "executionInfo": {
     "elapsed": 2763,
     "status": "ok",
     "timestamp": 1519476217859,
     "user": {
      "displayName": "Trijeet Modak",
      "photoUrl": "//lh5.googleusercontent.com/-qIbE8Z4Hng0/AAAAAAAAAAI/AAAAAAAAAf8/jYgwkubgbYk/s50-c-k-no/photo.jpg",
      "userId": "102805649547285129830"
     },
     "user_tz": -330
    },
    "id": "fCNf30yu9EQj",
    "outputId": "24e60c9e-2a00-436e-d7a6-a59c871c0ff0"
   },
   "outputs": [
    {
     "name": "stdout",
     "output_type": "stream",
     "text": [
      "WARNING:tensorflow:From <ipython-input-7-97ea47bc7618>:69: softmax_cross_entropy_with_logits (from tensorflow.python.ops.nn_ops) is deprecated and will be removed in a future version.\n",
      "Instructions for updating:\n",
      "\n",
      "Future major versions of TensorFlow will allow gradients to flow\n",
      "into the labels input on backprop by default.\n",
      "\n",
      "See tf.nn.softmax_cross_entropy_with_logits_v2.\n",
      "\n"
     ]
    }
   ],
   "source": [
    "### Define your architecture here.\n",
    "### Feel free to use as many code cells as needed.\n",
    "\n",
    "import tensorflow as tf\n",
    "from tensorflow.contrib.layers import flatten\n",
    "\n",
    "def LeNet(x):\n",
    "    # Arguments used for tf.truncated_normal, randomly defines variables for the weights and biases for each layer\n",
    "    mu = 0\n",
    "    sigma = 0.1\n",
    "\n",
    "    # SOLUTION: Layer 1: Convolutional. Input = 32x32x1. Output = 28x28x6.\n",
    "    conv1_W = tf.Variable(tf.truncated_normal(shape=(5, 5, ds_train.X.shape[3], 6), mean=mu, stddev=sigma))\n",
    "    conv1_b = tf.Variable(tf.zeros(6))\n",
    "    conv1 = tf.nn.conv2d(x, conv1_W, strides=[1, 1, 1, 1], padding='VALID') + conv1_b\n",
    "\n",
    "    # SOLUTION: Activation.\n",
    "    conv1 = tf.nn.relu(conv1)\n",
    "\n",
    "    # SOLUTION: Pooling. Input = 28x28x6. Output = 14x14x6.\n",
    "    conv1 = tf.nn.max_pool(conv1, ksize=[1, 2, 2, 1], strides=[1, 2, 2, 1], padding='VALID')\n",
    "\n",
    "    # SOLUTION: Layer 2: Convolutional. Output = 10x10x16.\n",
    "    conv2_W = tf.Variable(tf.truncated_normal(shape=(5, 5, 6, 16), mean=mu, stddev=sigma))\n",
    "    conv2_b = tf.Variable(tf.zeros(16))\n",
    "    conv2 = tf.nn.conv2d(conv1, conv2_W, strides=[1, 1, 1, 1], padding='VALID') + conv2_b\n",
    "\n",
    "    # SOLUTION: Activation.\n",
    "    conv2 = tf.nn.relu(conv2)\n",
    "\n",
    "    # SOLUTION: Pooling. Input = 10x10x16. Output = 5x5x16.\n",
    "    conv2 = tf.nn.max_pool(conv2, ksize=[1, 2, 2, 1], strides=[1, 2, 2, 1], padding='VALID')\n",
    "\n",
    "    # SOLUTION: Flatten. Input = 5x5x16. Output = 400.\n",
    "    fc0 = flatten(conv2)\n",
    "\n",
    "    # SOLUTION: Layer 3: Fully Connected. Input = 400. Output = 120.\n",
    "    fc1_W = tf.Variable(tf.truncated_normal(shape=(400, 120), mean=mu, stddev=sigma))\n",
    "    fc1_b = tf.Variable(tf.zeros(120))\n",
    "    fc1 = tf.matmul(fc0, fc1_W) + fc1_b\n",
    "\n",
    "    # SOLUTION: Activation.\n",
    "    fc1 = tf.nn.relu(fc1)\n",
    "    fc1 = tf.nn.dropout(fc1, 1 - dropout)\n",
    "\n",
    "    # SOLUTION: Layer 4: Fully Connected. Input = 120. Output = 84.\n",
    "    fc2_W = tf.Variable(tf.truncated_normal(shape=(120, 84), mean=mu, stddev=sigma))\n",
    "    fc2_b = tf.Variable(tf.zeros(84))\n",
    "    fc2 = tf.matmul(fc1, fc2_W) + fc2_b\n",
    "\n",
    "    # SOLUTION: Activation.\n",
    "    fc2 = tf.nn.relu(fc2)\n",
    "    fc2 = tf.nn.dropout(fc2, 1 - dropout)\n",
    "\n",
    "    # SOLUTION: Layer 5: Fully Connected. Input = 84. Output = 10.\n",
    "    fc3_W = tf.Variable(tf.truncated_normal(shape=(84, len(ds_train.eg_per_class)), mean=mu, stddev=sigma, seed=20))\n",
    "    fc3_b = tf.Variable(tf.zeros(43))\n",
    "    logits = tf.matmul(fc2, fc3_W) + fc3_b\n",
    "\n",
    "    return logits\n",
    "\n",
    "\n",
    "x = tf.placeholder(tf.float32, (None, 32, 32, ds_train.X.shape[3]))\n",
    "y = tf.placeholder(tf.int32, (None))\n",
    "dropout = tf.placeholder(tf.float32, (None))\n",
    "one_hot_y = tf.one_hot(y, 43)\n",
    "\n",
    "rate = 0.001\n",
    "\n",
    "logits = LeNet(x)\n",
    "cross_entropy = tf.nn.softmax_cross_entropy_with_logits(labels=one_hot_y, logits=logits)\n",
    "loss_operation = tf.reduce_mean(cross_entropy)\n",
    "optimizer = tf.train.AdamOptimizer(learning_rate=rate)\n",
    "training_operation = optimizer.minimize(loss_operation)\n",
    "\n",
    "correct_prediction = tf.equal(tf.argmax(logits, 1), tf.argmax(one_hot_y, 1))\n",
    "accuracy_operation = tf.reduce_mean(tf.cast(correct_prediction, tf.float32))\n",
    "saver = tf.train.Saver()\n",
    "\n",
    "\n",
    "def evaluate(X_data, y_data):\n",
    "    num_examples = len(X_data)\n",
    "    total_accuracy = 0\n",
    "    total_loss = 0\n",
    "    sess = tf.get_default_session()\n",
    "    for offset in range(0, num_examples, BATCH_SIZE):\n",
    "        batch_x, batch_y = X_data[offset:offset + BATCH_SIZE], y_data[offset:offset + BATCH_SIZE]\n",
    "        accuracy, loss = sess.run([accuracy_operation, loss_operation], feed_dict={x: batch_x, y: batch_y, dropout: 0})\n",
    "        total_accuracy += (accuracy * len(batch_x))\n",
    "        total_loss += (loss * len(batch_x))\n",
    "    return total_accuracy / num_examples, total_loss / num_examples\n"
   ]
  },
  {
   "cell_type": "markdown",
   "metadata": {
    "colab_type": "text",
    "id": "0E3iNJyQ9EQ1"
   },
   "source": [
    "### Train, Validate and Test the Model"
   ]
  },
  {
   "cell_type": "markdown",
   "metadata": {
    "colab_type": "text",
    "id": "d60uCzVn9EQ3"
   },
   "source": [
    "A validation set can be used to assess how well the model is performing. A low accuracy on the training and validation\n",
    "sets imply underfitting. A high accuracy on the training set but low accuracy on the validation set implies overfitting."
   ]
  },
  {
   "cell_type": "code",
   "execution_count": 8,
   "metadata": {
    "colab": {
     "autoexec": {
      "startup": false,
      "wait_interval": 0
     },
     "base_uri": "https://localhost:8080/",
     "height": 602,
     "output_extras": [
      {
       "item_id": 19
      },
      {
       "item_id": 20
      }
     ]
    },
    "colab_type": "code",
    "executionInfo": {
     "elapsed": 146946,
     "status": "ok",
     "timestamp": 1519476364833,
     "user": {
      "displayName": "Trijeet Modak",
      "photoUrl": "//lh5.googleusercontent.com/-qIbE8Z4Hng0/AAAAAAAAAAI/AAAAAAAAAf8/jYgwkubgbYk/s50-c-k-no/photo.jpg",
      "userId": "102805649547285129830"
     },
     "user_tz": -330
    },
    "id": "vFefaaCI9EQ6",
    "outputId": "fe81bf46-17cf-49e7-b834-815df984bf71"
   },
   "outputs": [
    {
     "name": "stdout",
     "output_type": "stream",
     "text": [
      "Training...\n",
      "\n",
      "EPOCH 1 ... Training Accuracy = 0.751 Validation Accuracy = 0.739\n",
      "EPOCH 2 ... Training Accuracy = 0.862 Validation Accuracy = 0.842\n",
      "EPOCH 3 ... Training Accuracy = 0.920 Validation Accuracy = 0.885\n",
      "EPOCH 4 ... Training Accuracy = 0.930 Validation Accuracy = 0.898\n",
      "EPOCH 5 ... Training Accuracy = 0.945 Validation Accuracy = 0.910\n",
      "EPOCH 6 ... Training Accuracy = 0.958 Validation Accuracy = 0.930\n",
      "EPOCH 7 ... Training Accuracy = 0.960 Validation Accuracy = 0.929\n",
      "EPOCH 8 ... Training Accuracy = 0.968 Validation Accuracy = 0.936\n",
      "EPOCH 9 ... Training Accuracy = 0.972 Validation Accuracy = 0.944\n",
      "EPOCH 10 ... Training Accuracy = 0.975 Validation Accuracy = 0.943\n",
      "EPOCH 11 ... Training Accuracy = 0.977 Validation Accuracy = 0.950\n",
      "EPOCH 12 ... Training Accuracy = 0.978 Validation Accuracy = 0.947\n",
      "EPOCH 13 ... Training Accuracy = 0.981 Validation Accuracy = 0.951\n",
      "EPOCH 14 ... Training Accuracy = 0.980 Validation Accuracy = 0.950\n",
      "EPOCH 15 ... Training Accuracy = 0.982 Validation Accuracy = 0.955\n",
      "EPOCH 16 ... Training Accuracy = 0.984 Validation Accuracy = 0.959\n",
      "EPOCH 17 ... Training Accuracy = 0.984 Validation Accuracy = 0.962\n",
      "Model saved\n",
      "INFO:tensorflow:Restoring parameters from data/model/model\n",
      "Test Accuracy = 0.942\n"
     ]
    },
    {
     "data": {
      "image/png": "[encoded data removed]",
      "text/plain": [
       "<matplotlib.figure.Figure at 0x7ff5e8fff588>"
      ]
     },
     "metadata": {
      "tags": []
     },
     "output_type": "display_data"
    }
   ],
   "source": [
    "### Train your model here.\n",
    "### Calculate and report the accuracy on the training and validation set.\n",
    "### Once a final model architecture is selected, \n",
    "### the accuracy on the test set should be calculated and reported as well.\n",
    "### Feel free to use as many code cells as needed.\n",
    "\n",
    "EPOCHS = 100\n",
    "BATCH_SIZE = 128\n",
    "\n",
    "with tf.Session() as sess:\n",
    "    sess.run(tf.global_variables_initializer())\n",
    "    num_examples = len(X_train)\n",
    "\n",
    "    print(\"Training...\")\n",
    "    print()\n",
    "    train_losses = []\n",
    "    valid_losses = []\n",
    "    train_acc = []\n",
    "    valid_acc = []\n",
    "    for i in range(EPOCHS):\n",
    "        ds = preprocess.shuffle(dataset(X_train, y_train))\n",
    "        X_train, y_train = ds.X, ds.y\n",
    "        for offset in range(0, num_examples, BATCH_SIZE):\n",
    "            end = offset + BATCH_SIZE\n",
    "            batch_x, batch_y = X_train[offset:end], y_train[offset:end]\n",
    "            sess.run(training_operation, feed_dict={x: batch_x, y: batch_y, dropout: 0.50})\n",
    "\n",
    "        training_accuracy, training_loss = evaluate(X_train, y_train)\n",
    "        validation_accuracy, validation_loss = evaluate(X_validation, y_validation)\n",
    "        train_losses.append(training_loss)\n",
    "        valid_losses.append(validation_loss)\n",
    "        train_acc.append(training_accuracy)\n",
    "        valid_acc.append(validation_accuracy)\n",
    "        print(\"EPOCH {} ...\".format(i + 1), \"Training Accuracy = {:.3f}\".format(training_accuracy),\n",
    "              \"Validation Accuracy = {:.3f}\".format(validation_accuracy))\n",
    "\n",
    "        if (validation_accuracy >= 0.96):\n",
    "            break\n",
    "\n",
    "    fig_size = plt.rcParams[\"figure.figsize\"]\n",
    "    fig_size[0] *= 1.5\n",
    "    fig_size[1] *=1.5\n",
    "    plt.rcParams[\"figure.figsize\"] = fig_size\n",
    "    loss_plot = plt.subplot(2, 1, 1)\n",
    "    loss_plot.set_title(\"Accuracy & Loss\")\n",
    "    loss_plot.plot(train_losses, \"r\", label=\"Training Loss\")\n",
    "    loss_plot.plot(valid_losses, \"b\", label=\"Validation Loss\")\n",
    "    loss_plot.plot(train_acc, \"m\", label=\"Training Accuracy\")\n",
    "    loss_plot.plot(valid_acc, \"c\", label=\"Validation Accuracy\")\n",
    "    loss_plot.set_xlim([0, i])\n",
    "    loss_plot.legend(loc=4)\n",
    "\n",
    "    saver.save(sess, 'data/model/model')\n",
    "    print(\"Model saved\")\n",
    "\n",
    "with tf.Session() as sess:\n",
    "    saver.restore(sess, tf.train.latest_checkpoint('data/model'))\n",
    "    test_accuracy, test_loss = evaluate(X_test, y_test)\n",
    "    print(\"Test Accuracy = {:.3f}\".format(test_accuracy))\n"
   ]
  },
  {
   "cell_type": "markdown",
   "metadata": {
    "colab_type": "text",
    "id": "qjxZK7kh9ERD"
   },
   "source": [
    "---\n",
    "\n",
    "## Step 3: Test a Model on New Images\n",
    "\n",
    "To give yourself more insight into how your model is working, download at least five pictures of German traffic signs from the web and use your model to predict the traffic sign type.\n",
    "\n",
    "You may find `signnames.csv` useful as it contains mappings from the class id (integer) to the actual sign name."
   ]
  },
  {
   "cell_type": "markdown",
   "metadata": {
    "colab_type": "text",
    "id": "Wsq7zOmw9ERH"
   },
   "source": [
    "### Load and Output the Images"
   ]
  },
  {
   "cell_type": "code",
   "execution_count": 9,
   "metadata": {
    "colab": {
     "autoexec": {
      "startup": false,
      "wait_interval": 0
     },
     "base_uri": "https://localhost:8080/",
     "height": 394,
     "output_extras": [
      {
       "item_id": 1
      },
      {
       "item_id": 2
      }
     ]
    },
    "colab_type": "code",
    "executionInfo": {
     "elapsed": 1175,
     "status": "ok",
     "timestamp": 1519476366131,
     "user": {
      "displayName": "Trijeet Modak",
      "photoUrl": "//lh5.googleusercontent.com/-qIbE8Z4Hng0/AAAAAAAAAAI/AAAAAAAAAf8/jYgwkubgbYk/s50-c-k-no/photo.jpg",
      "userId": "102805649547285129830"
     },
     "user_tz": -330
    },
    "id": "GzevQgJo9ERJ",
    "outputId": "8210428b-0632-4a2e-95e1-ea09482500e5"
   },
   "outputs": [
    {
     "name": "stdout",
     "output_type": "stream",
     "text": [
      "Evaluation Dataset:\n"
     ]
    },
    {
     "data": {
      "image/png": "[encoded data removed]",
      "text/plain": [
       "<matplotlib.figure.Figure at 0x7ff522390208>"
      ]
     },
     "metadata": {
      "tags": []
     },
     "output_type": "display_data"
    }
   ],
   "source": [
    "### Load the images and plot them here.\n",
    "### Feel free to use as many code cells as needed.\n",
    "import os\n",
    "import csv\n",
    "import matplotlib.image as mpimg\n",
    "\n",
    "eval_imgs = os.listdir(\"./data/eval\")\n",
    "# eval_imgs = random.sample(eval_imgs, 5)\n",
    "\n",
    "X_eval = np.array([mpimg.imread('./data/eval/' + img) for img in eval_imgs])\n",
    "lst = [('./data/eval/' + img) for img in eval_imgs]\n",
    "y_eval = np.array([int(x.split(\".\")[0]) for x in eval_imgs])\n",
    "ds_eval = dataset(X_eval, y_eval)\n",
    "print(\"Evaluation Dataset:\")\n",
    "ds_eval.chart_class_eg()\n",
    "\n",
    "# ds_eval = preprocess.gray_scale(ds_eval)\n",
    "ds_eval = preprocess.normalize(ds_eval)\n",
    "X_eval = ds_eval.X\n",
    "y_eval = ds_eval.y\n",
    "\n",
    "sign_dict = {}\n",
    "with open('signnames.csv', mode='r') as in_file:\n",
    "    reader = csv.reader(in_file)\n",
    "    for rows in reader:\n",
    "        sign_dict.update({rows[0]: rows[1]})\n",
    "        \n",
    "\n",
    "    \n"
   ]
  },
  {
   "cell_type": "markdown",
   "metadata": {
    "colab_type": "text",
    "id": "ii5iWwx_9ERW"
   },
   "source": [
    "### Predict the Sign Type for Each Image"
   ]
  },
  {
   "cell_type": "code",
   "execution_count": 10,
   "metadata": {
    "colab": {
     "autoexec": {
      "startup": false,
      "wait_interval": 0
     },
     "base_uri": "https://localhost:8080/",
     "height": 321,
     "output_extras": [
      {
       "item_id": 1
      }
     ]
    },
    "colab_type": "code",
    "executionInfo": {
     "elapsed": 1037,
     "status": "ok",
     "timestamp": 1519476367312,
     "user": {
      "displayName": "Trijeet Modak",
      "photoUrl": "//lh5.googleusercontent.com/-qIbE8Z4Hng0/AAAAAAAAAAI/AAAAAAAAAf8/jYgwkubgbYk/s50-c-k-no/photo.jpg",
      "userId": "102805649547285129830"
     },
     "user_tz": -330
    },
    "id": "RCT-0C2D9ERZ",
    "outputId": "3c97b71a-796e-4933-d36e-f78766689fba"
   },
   "outputs": [
    {
     "name": "stdout",
     "output_type": "stream",
     "text": [
      "INFO:tensorflow:Restoring parameters from data/model/model\n",
      "+---------------------------------------+---------------------------------------+-------------------+\n",
      "|              Actual Label             |            Predicted Label            | Probability Score |\n",
      "+---------------------------------------+---------------------------------------+-------------------+\n",
      "|                 Yield                 |                 Yield                 |      1.00000      |\n",
      "|             Priority road             |             Priority road             |      1.00000      |\n",
      "|            Turn right ahead           |            Turn right ahead           |      1.00000      |\n",
      "|                  Stop                 |                  Stop                 |      1.00000      |\n",
      "|               Keep right              |               Keep right              |      1.00000      |\n",
      "|          Speed limit (30km/h)         |          Speed limit (30km/h)         |      0.99991      |\n",
      "|          Speed limit (60km/h)         |          Speed limit (60km/h)         |      1.00000      |\n",
      "|          Roundabout mandatory         |          Roundabout mandatory         |      1.00000      |\n",
      "|               Ahead only              |               Ahead only              |      1.00000      |\n",
      "|             Slippery road             |             Slippery road             |      0.78150      |\n",
      "| Right-of-way at the next intersection | Right-of-way at the next intersection |      1.00000      |\n",
      "+---------------------------------------+---------------------------------------+-------------------+\n"
     ]
    }
   ],
   "source": [
    "### Run the predictions here and use the model to output the prediction for each image.\n",
    "### Make sure to pre-process the images with the same pre-processing pipeline used earlier.\n",
    "### Feel free to use as many code cells as needed.\n",
    "\n",
    "from prettytable import PrettyTable\n",
    "\n",
    "table = PrettyTable(['Actual Label', 'Predicted Label', \"Probability Score\"])\n",
    "\n",
    "with tf.Session() as sess:\n",
    "    saver.restore(sess, tf.train.latest_checkpoint('data/model'))\n",
    "    result = sess.run(tf.nn.softmax(logits), feed_dict={x: X_eval, dropout: 0})\n",
    "    for i in range(len(result)):\n",
    "        scores = list(result[i])\n",
    "        table.add_row(\n",
    "            [sign_dict[str(y_eval[i])], sign_dict[str(scores.index(max(scores)))], \"{:.5f}\".format(max(scores))])\n",
    "    print(table)\n"
   ]
  },
  {
   "cell_type": "markdown",
   "metadata": {
    "colab_type": "text",
    "id": "bWv4KRD49ERl"
   },
   "source": [
    "### Analyze Performance"
   ]
  },
  {
   "cell_type": "code",
   "execution_count": 11,
   "metadata": {
    "colab": {
     "autoexec": {
      "startup": false,
      "wait_interval": 0
     },
     "base_uri": "https://localhost:8080/",
     "height": 52,
     "output_extras": [
      {
       "item_id": 1
      }
     ]
    },
    "colab_type": "code",
    "executionInfo": {
     "elapsed": 1050,
     "status": "ok",
     "timestamp": 1519476368486,
     "user": {
      "displayName": "Trijeet Modak",
      "photoUrl": "//lh5.googleusercontent.com/-qIbE8Z4Hng0/AAAAAAAAAAI/AAAAAAAAAf8/jYgwkubgbYk/s50-c-k-no/photo.jpg",
      "userId": "102805649547285129830"
     },
     "user_tz": -330
    },
    "id": "-sw60d6J9ERp",
    "outputId": "df70c254-4550-47d3-b93e-bc6923ee1688"
   },
   "outputs": [
    {
     "name": "stdout",
     "output_type": "stream",
     "text": [
      "INFO:tensorflow:Restoring parameters from data/model/model\n",
      "Eval Accuracy = 100.000%\n"
     ]
    }
   ],
   "source": [
    "### Calculate the accuracy for these 5 new images. \n",
    "### For example, if the model predicted 1 out of 5 signs correctly, it's 20% accurate on these new images.\n",
    "with tf.Session() as sess:\n",
    "    saver.restore(sess, tf.train.latest_checkpoint('data/model'))\n",
    "    eval_accuracy, eval_loss = evaluate(X_eval, y_eval)\n",
    "    print(\"Eval Accuracy = {:.3f}%\".format(eval_accuracy * 100))\n"
   ]
  },
  {
   "cell_type": "markdown",
   "metadata": {
    "colab_type": "text",
    "id": "vVZgKSoY9ERx"
   },
   "source": [
    "### Output Top 5 Softmax Probabilities For Each Image Found on the Web"
   ]
  },
  {
   "cell_type": "markdown",
   "metadata": {
    "colab_type": "text",
    "id": "GtfrKc839ERz"
   },
   "source": [
    "For each of the new images, print out the model's softmax probabilities to show the **certainty** of the model's predictions (limit the output to the top 5 probabilities for each image). [`tf.nn.top_k`](https://www.tensorflow.org/versions/r0.12/api_docs/python/nn.html#top_k) could prove helpful here. \n",
    "\n",
    "The example below demonstrates how tf.nn.top_k can be used to find the top k predictions for each image.\n",
    "\n",
    "`tf.nn.top_k` will return the values and indices (class ids) of the top k predictions. So if k=3, for each sign, it'll return the 3 largest probabilities (out of a possible 43) and the correspoding class ids.\n",
    "\n",
    "Take this numpy array as an example. The values in the array represent predictions. The array contains softmax probabilities for five candidate images with six possible classes. `tf.nn.top_k` is used to choose the three classes with the highest probability:\n",
    "\n",
    "```\n",
    "# (5, 6) array\n",
    "a = np.array([[ 0.24879643,  0.07032244,  0.12641572,  0.34763842,  0.07893497,\n",
    "         0.12789202],\n",
    "       [ 0.28086119,  0.27569815,  0.08594638,  0.0178669 ,  0.18063401,\n",
    "         0.15899337],\n",
    "       [ 0.26076848,  0.23664738,  0.08020603,  0.07001922,  0.1134371 ,\n",
    "         0.23892179],\n",
    "       [ 0.11943333,  0.29198961,  0.02605103,  0.26234032,  0.1351348 ,\n",
    "         0.16505091],\n",
    "       [ 0.09561176,  0.34396535,  0.0643941 ,  0.16240774,  0.24206137,\n",
    "         0.09155967]])\n",
    "```\n",
    "\n",
    "Running it through `sess.run(tf.nn.top_k(tf.constant(a), k=3))` produces:\n",
    "\n",
    "```\n",
    "TopKV2(values=array([[ 0.34763842,  0.24879643,  0.12789202],\n",
    "       [ 0.28086119,  0.27569815,  0.18063401],\n",
    "       [ 0.26076848,  0.23892179,  0.23664738],\n",
    "       [ 0.29198961,  0.26234032,  0.16505091],\n",
    "       [ 0.34396535,  0.24206137,  0.16240774]]), indices=array([[3, 0, 5],\n",
    "       [0, 1, 4],\n",
    "       [0, 5, 1],\n",
    "       [1, 3, 5],\n",
    "       [1, 4, 3]], dtype=int32))\n",
    "```\n",
    "\n",
    "Looking just at the first row we get `[ 0.34763842,  0.24879643,  0.12789202]`, you can confirm these are the 3 largest probabilities in `a`. You'll also notice `[3, 0, 5]` are the corresponding indices."
   ]
  },
  {
   "cell_type": "code",
   "execution_count": 12,
   "metadata": {
    "colab": {
     "autoexec": {
      "startup": false,
      "wait_interval": 0
     },
     "base_uri": "https://localhost:8080/",
     "height": 303,
     "output_extras": [
      {
       "item_id": 1
      }
     ]
    },
    "colab_type": "code",
    "executionInfo": {
     "elapsed": 995,
     "status": "ok",
     "timestamp": 1519476369603,
     "user": {
      "displayName": "Trijeet Modak",
      "photoUrl": "//lh5.googleusercontent.com/-qIbE8Z4Hng0/AAAAAAAAAAI/AAAAAAAAAf8/jYgwkubgbYk/s50-c-k-no/photo.jpg",
      "userId": "102805649547285129830"
     },
     "user_tz": -330
    },
    "id": "t7YpxIDM9ER1",
    "outputId": "aabd46e0-3751-4f16-a691-5ba4f35d7d05"
   },
   "outputs": [
    {
     "name": "stdout",
     "output_type": "stream",
     "text": [
      "+---------------------------------------+---------------------------------------+---------+----------------------------------------------------+---------+----------------------------------------------+---------+-----------------------+---------+-------------------------------------+---------+\n",
      "|              Actual Label             |               Predict 1               | Score 1 |                     Predict 2                      | Score 2 |                  Predict 3                   | Score 3 |       Predict 4       | Score 4 |              Predict 5              | Score 5 |\n",
      "+---------------------------------------+---------------------------------------+---------+----------------------------------------------------+---------+----------------------------------------------+---------+-----------------------+---------+-------------------------------------+---------+\n",
      "|                 Yield                 |                 Yield                 | 1.00000 | End of no passing by vehicles over 3.5 metric tons | 0.00000 | No passing for vehicles over 3.5 metric tons | 0.00000 |    General caution    | 0.00000 |               No entry              | 0.00000 |\n",
      "|             Priority road             |             Priority road             | 1.00000 |                  Traffic signals                   | 0.00000 |                     Stop                     | 0.00000 |         Yield         | 0.00000 | End of all speed and passing limits | 0.00000 |\n",
      "|            Turn right ahead           |            Turn right ahead           | 1.00000 |                Roundabout mandatory                | 0.00000 |                  Ahead only                  | 0.00000 |    Turn left ahead    | 0.00000 |              Keep left              | 0.00000 |\n",
      "|                  Stop                 |                  Stop                 | 1.00000 |                      No entry                      | 0.00000 |                Priority road                 | 0.00000 |         Yield         | 0.00000 |             No vehicles             | 0.00000 |\n",
      "|               Keep right              |               Keep right              | 1.00000 |                  Turn left ahead                   | 0.00000 |             Go straight or right             | 0.00000 |  Roundabout mandatory | 0.00000 |              Keep left              | 0.00000 |\n",
      "|          Speed limit (30km/h)         |          Speed limit (30km/h)         | 0.99991 |                Speed limit (70km/h)                | 0.00009 |             Speed limit (20km/h)             | 0.00000 |  Speed limit (50km/h) | 0.00000 |         Speed limit (80km/h)        | 0.00000 |\n",
      "|          Speed limit (60km/h)         |          Speed limit (60km/h)         | 1.00000 |                Speed limit (50km/h)                | 0.00000 |                 No vehicles                  | 0.00000 |  Speed limit (80km/h) | 0.00000 |              No passing             | 0.00000 |\n",
      "|          Roundabout mandatory         |          Roundabout mandatory         | 1.00000 |                  Turn left ahead                   | 0.00000 |                  Keep right                  | 0.00000 |  Go straight or left  | 0.00000 |         Go straight or right        | 0.00000 |\n",
      "|               Ahead only              |               Ahead only              | 1.00000 |                  Turn left ahead                   | 0.00000 |               Turn right ahead               | 0.00000 |  Go straight or left  | 0.00000 |         Go straight or right        | 0.00000 |\n",
      "|             Slippery road             |             Slippery road             | 0.78150 |                 Bicycles crossing                  | 0.21850 |              Children crossing               | 0.00000 | Wild animals crossing | 0.00000 |              Bumpy road             | 0.00000 |\n",
      "| Right-of-way at the next intersection | Right-of-way at the next intersection | 1.00000 |                 Beware of ice/snow                 | 0.00000 |                 Double curve                 | 0.00000 |      Pedestrians      | 0.00000 |     Dangerous curve to the right    | 0.00000 |\n",
      "+---------------------------------------+---------------------------------------+---------+----------------------------------------------------+---------+----------------------------------------------+---------+-----------------------+---------+-------------------------------------+---------+\n"
     ]
    }
   ],
   "source": [
    "### Print out the top five softmax probabilities for the predictions on the German traffic sign images found on the web. \n",
    "### Feel free to use as many code cells as needed.\n",
    "\n",
    "table = PrettyTable(\n",
    "    ['Actual Label', 'Predict 1', 'Score 1', 'Predict 2', 'Score 2', 'Predict 3', 'Score 3', 'Predict 4', 'Score 4',\n",
    "     'Predict 5', 'Score 5'])\n",
    "\n",
    "for i in range(len(result)):\n",
    "    scores = result[i]\n",
    "    labels = scores.argsort()[-5::][::-1]\n",
    "    scores = scores[labels]\n",
    "    table.add_row([sign_dict[str(y_eval[i])],\n",
    "                   sign_dict[str(labels[0])], \"{:.5f}\".format(scores[0]),\n",
    "                   sign_dict[str(labels[1])], \"{:.5f}\".format(scores[1]),\n",
    "                   sign_dict[str(labels[2])], \"{:.5f}\".format(scores[2]),\n",
    "                   sign_dict[str(labels[3])], \"{:.5f}\".format(scores[3]),\n",
    "                   sign_dict[str(labels[4])], \"{:.5f}\".format(scores[4])])\n",
    "print(table)\n"
   ]
  },
  {
   "cell_type": "markdown",
   "metadata": {
    "colab_type": "text",
    "id": "pPNwI9WT9ESE"
   },
   "source": [
    "### Project Writeup\n",
    "\n",
    "Once you have completed the code implementation, document your results in a project writeup using this [template](https://github.com/udacity/CarND-Traffic-Sign-Classifier-Project/blob/master/writeup_template.md) as a guide. The writeup can be in a markdown or pdf file. "
   ]
  },
  {
   "cell_type": "markdown",
   "metadata": {
    "colab_type": "text",
    "id": "LJce8QL_9ESG"
   },
   "source": [
    "> **Note**: Once you have completed all of the code implementations and successfully answered each question above, you may finalize your work by exporting the iPython Notebook as an HTML document. You can do this by using the menu above and navigating to  \\n\",\n",
    "    \"**File -> Download as -> HTML (.html)**. Include the finished document along with this notebook as your submission."
   ]
  },
  {
   "cell_type": "markdown",
   "metadata": {
    "colab_type": "text",
    "id": "vWVnUo--9ESJ"
   },
   "source": [
    "---\n",
    "\n",
    "## Step 4 (Optional): Visualize the Neural Network's State with Test Images\n",
    "\n",
    " This Section is not required to complete but acts as an additional excersise for understaning the output of a neural network's weights. While neural networks can be a great learning device they are often referred to as a black box. We can understand what the weights of a neural network look like better by plotting their feature maps. After successfully training your neural network you can see what it's feature maps look like by plotting the output of the network's weight layers in response to a test stimuli image. From these plotted feature maps, it's possible to see what characteristics of an image the network finds interesting. For a sign, maybe the inner network feature maps react with high activation to the sign's boundary outline or to the contrast in the sign's painted symbol.\n",
    "\n",
    " Provided for you below is the function code that allows you to get the visualization output of any tensorflow weight layer you want. The inputs to the function should be a stimuli image, one used during training or a new one you provided, and then the tensorflow variable name that represents the layer's state during the training process, for instance if you wanted to see what the [LeNet lab's](https://classroom.udacity.com/nanodegrees/nd013/parts/fbf77062-5703-404e-b60c-95b78b2f3f9e/modules/6df7ae49-c61c-4bb2-a23e-6527e69209ec/lessons/601ae704-1035-4287-8b11-e2c2716217ad/concepts/d4aca031-508f-4e0b-b493-e7b706120f81) feature maps looked like for it's second convolutional layer you could enter conv2 as the tf_activation variable.\n",
    "\n",
    "For an example of what feature map outputs look like, check out NVIDIA's results in their paper [End-to-End Deep Learning for Self-Driving Cars](https://devblogs.nvidia.com/parallelforall/deep-learning-self-driving-cars/) in the section Visualization of internal CNN State. NVIDIA was able to show that their network's inner weights had high activations to road boundary lines by comparing feature maps from an image with a clear path to one without. Try experimenting with a similar test to show that your trained network's weights are looking for interesting features, whether it's looking at differences in feature maps from images with or without a sign, or even what feature maps look like in a trained network vs a completely untrained one on the same sign image.\n",
    "\n",
    "<figure>\n",
    " <img src=\"visualize_cnn.png\" width=\"380\" alt=\"Combined Image\" />\n",
    " <figcaption>\n",
    " <p></p> \n",
    " <p style=\"text-align: center;\"> Your output should look something like this (above)</p> \n",
    " </figcaption>\n",
    "</figure>\n",
    " <p></p> \n"
   ]
  },
  {
   "cell_type": "code",
   "execution_count": 0,
   "metadata": {
    "colab": {
     "autoexec": {
      "startup": false,
      "wait_interval": 0
     }
    },
    "colab_type": "code",
    "id": "ZKSGDVbv9ESN"
   },
   "outputs": [],
   "source": [
    "### Visualize your network's feature maps here.\n",
    "### Feel free to use as many code cells as needed.\n",
    "\n",
    "# image_input: the test image being fed into the network to produce the feature maps\n",
    "# tf_activation: should be a tf variable name used during your training procedure that represents the calculated state of a specific weight layer\n",
    "# activation_min/max: can be used to view the activation contrast in more detail, by default matplot sets min and max to the actual min and max values of the output\n",
    "# plt_num: used to plot out multiple different weight feature map sets on the same block, just extend the plt number for each new feature map entry\n",
    "\n",
    "def outputFeatureMap(image_input, tf_activation, activation_min=-1, activation_max=-1 ,plt_num=1):\n",
    "    # Here make sure to preprocess your image_input in a way your network expects\n",
    "    # with size, normalization, ect if needed\n",
    "    # image_input =\n",
    "    # Note: x should be the same name as your network's tensorflow data placeholder variable\n",
    "    # If you get an error tf_activation is not defined it may be having trouble accessing the variable from inside a function\n",
    "    activation = tf_activation.eval(session=sess,feed_dict={x : image_input})\n",
    "    featuremaps = activation.shape[3]\n",
    "    plt.figure(plt_num, figsize=(15,15))\n",
    "    for featuremap in range(featuremaps):\n",
    "        plt.subplot(6,8, featuremap+1) # sets the number of feature maps to show on each row and column\n",
    "        plt.title('FeatureMap ' + str(featuremap)) # displays the feature map number\n",
    "        if activation_min != -1 & activation_max != -1:\n",
    "            plt.imshow(activation[0,:,:, featuremap], interpolation=\"nearest\", vmin =activation_min, vmax=activation_max, cmap=\"gray\")\n",
    "        elif activation_max != -1:\n",
    "            plt.imshow(activation[0,:,:, featuremap], interpolation=\"nearest\", vmax=activation_max, cmap=\"gray\")\n",
    "        elif activation_min !=-1:\n",
    "            plt.imshow(activation[0,:,:, featuremap], interpolation=\"nearest\", vmin=activation_min, cmap=\"gray\")\n",
    "        else:\n",
    "            plt.imshow(activation[0,:,:, featuremap], interpolation=\"nearest\", cmap=\"gray\")"
   ]
  },
  {
   "cell_type": "code",
   "execution_count": 0,
   "metadata": {
    "colab": {
     "autoexec": {
      "startup": false,
      "wait_interval": 0
     }
    },
    "colab_type": "code",
    "id": "qaSSE2O_ZuaG"
   },
   "outputs": [],
   "source": [
    "## DOWNLOAD TRAINED MODEL FROM GOOGLE COLAB\n",
    "\n",
    "# from google.colab import files\n",
    "# for x in os.listdir(\"./data/model\"):\n",
    "#   files.download('data/model/'+x)"
   ]
  }
 ],
 "metadata": {
  "accelerator": "GPU",
  "colab": {
   "collapsed_sections": [],
   "default_view": {},
   "name": "Traffic_Sign_Classifier.ipynb",
   "provenance": [],
   "version": "0.3.2",
   "views": {}
  },
  "kernelspec": {
   "display_name": "Python 3",
   "language": "python",
   "name": "python3"
  },
  "language_info": {
   "codemirror_mode": {
    "name": "ipython",
    "version": 3
   },
   "file_extension": ".py",
   "mimetype": "text/x-python",
   "name": "python",
   "nbconvert_exporter": "python",
   "pygments_lexer": "ipython3",
   "version": "3.5.2"
  }
 },
 "nbformat": 4,
 "nbformat_minor": 1
}
